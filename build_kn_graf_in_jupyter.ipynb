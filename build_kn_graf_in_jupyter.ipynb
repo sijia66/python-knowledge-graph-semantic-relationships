{
 "cells": [
  {
   "cell_type": "code",
   "execution_count": 2,
   "metadata": {},
   "outputs": [],
   "source": [
    "from text_extractor import TextExtractor\n",
    "from and_other_pattern_matcher import AndOtherPatternMatcher\n",
    "from such_as_pattern_matcher import SuchAsPatternMatcher\n",
    "from or_other_pattern_matcher import OrOtherPatternMatcher\n",
    "from including_pattern_matcher import IncludingPatternMatcher\n",
    "from especially_pattern_matcher import EspeciallyPatternMatcher\n",
    "from text_extractor_pipe import TextExtractorPipe\n",
    "from knowledge_graph import KnowledgeGraph\n",
    "from matcher_pipe import MatcherPipe\n",
    "import spacy"
   ]
  },
  {
   "cell_type": "code",
   "execution_count": 3,
   "metadata": {
    "scrolled": true
   },
   "outputs": [
    {
     "name": "stdout",
     "output_type": "stream",
     "text": [
      "fini\n"
     ]
    }
   ],
   "source": [
    "#try som  ext\n",
    "textExtractor1 = TextExtractor(\"WWII\", \"Q362\")\n",
    "textExtractor1.extract()\n",
    "textExtractor2 = TextExtractor(\"London\", \"Q84\")\n",
    "textExtractor2.extract()\n",
    "textExtractor3 = TextExtractor(\"Paris\", \"Q90\")\n",
    "textExtractor3.extract()\n",
    "textExtractor4 = TextExtractor(\"World War I\", \"Q361\")\n",
    "textExtractor4.extract()\n",
    "\n",
    "print('fini')\n"
   ]
  },
  {
   "cell_type": "code",
   "execution_count": 7,
   "metadata": {},
   "outputs": [],
   "source": [
    "#a mor ele wy 2 rt ths wd b\n",
    "#bund thm into a lis\n",
    "\n",
    "#mk al t queries into a lis o tup \n",
    "\n",
    "\n",
    "q_info_list= [\n",
    "    (\"WWII\", \"Q362\"),\n",
    "    (\"London\", \"Q84\"),\n",
    "    (\"Paris\", \"Q90\"),\n",
    "    (\"World War I\", \"Q361\")\n",
    "]\n",
    "\n",
    "#bud t list\n",
    "extractor_list = [TextExtractor(info[0], info[1]) for info in q_info_list ]\n",
    "\n",
    "\n",
    "\n"
   ]
  },
  {
   "cell_type": "code",
   "execution_count": null,
   "metadata": {},
   "outputs": [],
   "source": [
    "#now us a f lop t ext \n",
    "#just ext\n",
    "for ex in extractor_list: ex.extract()\n",
    "  "
   ]
  },
  {
   "cell_type": "code",
   "execution_count": 9,
   "metadata": {},
   "outputs": [],
   "source": [
    "#us mul thred:\n",
    "\n",
    "#bld t jb 1st\n",
    "import threading\n",
    "jobs = []\n",
    "\n",
    "jobs = [threading.Thread(target=ex.extract()) for ex in extractor_list]\n",
    "    \n",
    "#stt t ! jb:\n",
    "for j in jobs: j.start()\n",
    "\n",
    "#jn t th\n",
    "for j in jobs: j.join()\n",
    "    "
   ]
  },
  {
   "cell_type": "code",
   "execution_count": 10,
   "metadata": {},
   "outputs": [],
   "source": [
    "#use t mul proc\n",
    "import multiprocessing\n",
    "\n",
    "ext_proc = '''\n",
    "\n",
    "'''\n"
   ]
  },
  {
   "cell_type": "code",
   "execution_count": null,
   "metadata": {
    "scrolled": true
   },
   "outputs": [],
   "source": [
    "#wt s wht wiki api d, ok?\n",
    "import  wikipedia\n",
    "page = wikipedia.page(title=\"WWII\")\n",
    "\n",
    "for ky,val in page.__dict__.items():\n",
    "    print(f'{ky} : {val}')\n",
    "    \n",
    "with open(\"./text/\" + 'random' + \".txt\", \"w\", encoding='utf-8') as f:\n",
    "    f.write(page.content)"
   ]
  },
  {
   "cell_type": "code",
   "execution_count": null,
   "metadata": {},
   "outputs": [],
   "source": [
    "#check if the text dir exists\n",
    "import os\n",
    "print(os.path.isdir('text'))\n",
    "print(os.getcwd())\n",
    "\n",
    "if not os.path.isdir('text'):\n",
    "    os.mkdir('text')\n",
    "    print(f'created text in {os.getcwd()}')\n",
    "\n",
    "with open(\"./text/\" + 'test' + \".txt\", \"w\") as f:\n",
    "    f.write('test')"
   ]
  }
 ],
 "metadata": {
  "kernelspec": {
   "display_name": "Python 3",
   "language": "python",
   "name": "python3"
  },
  "language_info": {
   "codemirror_mode": {
    "name": "ipython",
    "version": 3
   },
   "file_extension": ".py",
   "mimetype": "text/x-python",
   "name": "python",
   "nbconvert_exporter": "python",
   "pygments_lexer": "ipython3",
   "version": "3.7.6"
  }
 },
 "nbformat": 4,
 "nbformat_minor": 4
}
